{
  "nbformat": 4,
  "nbformat_minor": 0,
  "metadata": {
    "colab": {
      "provenance": []
    },
    "kernelspec": {
      "name": "python3",
      "display_name": "Python 3"
    },
    "language_info": {
      "name": "python"
    }
  },
  "cells": [
    {
      "cell_type": "code",
      "execution_count": 19,
      "metadata": {
        "colab": {
          "base_uri": "https://localhost:8080/"
        },
        "id": "QOfWy87RUIf6",
        "outputId": "fa004027-4ad1-4d71-9d04-b427ca2b110e"
      },
      "outputs": [
        {
          "output_type": "stream",
          "name": "stdout",
          "text": [
            "d45BFtk1fN7ksqwvFevzOA\n"
          ]
        }
      ],
      "source": [
        "#key generation for my reference\n",
        "import secrets\n",
        "generated_key = secrets.token_urlsafe(16)\n",
        "print(generated_key)"
      ]
    },
    {
      "cell_type": "code",
      "source": [
        "#importing libraries\n",
        "from flask import Flask\n",
        "app = Flask(__name__)\n",
        "from functools import wraps\n",
        "from flask import request, abort\n",
        "\n",
        "#function \n",
        "def this_function_requires_key(i_am_the_function_to_check):\n",
        "    @wraps(i_am_the_function_to_check)\n",
        "    \n",
        "    #decorator function to check the key\n",
        "    def decorator_function(*args, **kwargs):\n",
        "\n",
        "        #conditional statement to verify\n",
        "        if request.args.get('key') and request.args.get('key') == generated_key:\n",
        "            return i_am_the_function_to_check(*args, **kwargs)\n",
        "        else:\n",
        "            print(\"Unauthorized access\")\n",
        "            abort(401)\n",
        "    return decorator_function\n",
        "\n",
        "#call the function \n",
        "@this_function_requires_key\n",
        "def some_random_function():\n",
        "    return 'I am a random function'"
      ],
      "metadata": {
        "id": "a7wq-qPjUTK2"
      },
      "execution_count": 20,
      "outputs": []
    },
    {
      "cell_type": "code",
      "source": [],
      "metadata": {
        "id": "ZGYtmQXOjfNi"
      },
      "execution_count": null,
      "outputs": []
    }
  ]
}